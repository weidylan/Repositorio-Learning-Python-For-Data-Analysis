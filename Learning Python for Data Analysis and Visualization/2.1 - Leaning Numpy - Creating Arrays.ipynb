{
 "cells": [
  {
   "cell_type": "code",
   "execution_count": 17,
   "metadata": {},
   "outputs": [
    {
     "name": "stdout",
     "output_type": "stream",
     "text": [
      "[1 2 3 4 5]\n"
     ]
    }
   ],
   "source": [
    "# Nesta seção vamos aprender a criar arrays\n",
    "\n",
    "# A primeira coisa para se fazer quando querermos criar arrays é importar a biblioteca numpy\n",
    "\n",
    "import numpy as np # Utilizamos um alias para apelidar a biblioteca.\n",
    "\n",
    "# Uma maneira de criar um array é convertendo uma lista para array\n",
    "\n",
    "lista = [1, 2, 3, 4, 5]\n",
    "\n",
    "array = np.array(lista)\n",
    "\n",
    "# Exibindo array\n",
    "\n",
    "print(array)"
   ]
  },
  {
   "cell_type": "code",
   "execution_count": 18,
   "metadata": {},
   "outputs": [
    {
     "data": {
      "text/plain": [
       "numpy.ndarray"
      ]
     },
     "execution_count": 18,
     "metadata": {},
     "output_type": "execute_result"
    }
   ],
   "source": [
    "# Utilizando o método type() para exibir o tipo de dado dessa variável\n",
    "\n",
    "type(array)"
   ]
  },
  {
   "cell_type": "code",
   "execution_count": 19,
   "metadata": {},
   "outputs": [
    {
     "data": {
      "text/plain": [
       "array([1, 2, 3, 4, 5])"
      ]
     },
     "execution_count": 19,
     "metadata": {},
     "output_type": "execute_result"
    }
   ],
   "source": [
    "array"
   ]
  },
  {
   "cell_type": "code",
   "execution_count": 20,
   "metadata": {},
   "outputs": [
    {
     "name": "stdout",
     "output_type": "stream",
     "text": [
      "[[1, 2, 3, 4, 5], [22, 24, 26, 28, 30]]\n"
     ]
    }
   ],
   "source": [
    "# Declarando outras variáveis\n",
    "\n",
    "lista_pares = [22, 24, 26, 28, 30]\n",
    "\n",
    "listas = [lista, lista_pares]\n",
    "\n",
    "print(listas)"
   ]
  },
  {
   "cell_type": "code",
   "execution_count": 21,
   "metadata": {},
   "outputs": [
    {
     "name": "stdout",
     "output_type": "stream",
     "text": [
      "[[ 1  2  3  4  5]\n",
      " [22 24 26 28 30]]\n"
     ]
    }
   ],
   "source": [
    "# Com listas de listas podemos fazer arrays multidimensionais\n",
    "\n",
    "array_multidimensional = np.array(listas)\n",
    "\n",
    "print(array_multidimensional)"
   ]
  },
  {
   "cell_type": "code",
   "execution_count": 22,
   "metadata": {},
   "outputs": [
    {
     "data": {
      "text/plain": [
       "array([[ 1,  2,  3,  4,  5],\n",
       "       [22, 24, 26, 28, 30]])"
      ]
     },
     "execution_count": 22,
     "metadata": {},
     "output_type": "execute_result"
    }
   ],
   "source": [
    "array_multidimensional"
   ]
  },
  {
   "cell_type": "code",
   "execution_count": 23,
   "metadata": {},
   "outputs": [
    {
     "data": {
      "text/plain": [
       "(2, 5)"
      ]
     },
     "execution_count": 23,
     "metadata": {},
     "output_type": "execute_result"
    }
   ],
   "source": [
    "array_multidimensional.shape"
   ]
  },
  {
   "cell_type": "code",
   "execution_count": 24,
   "metadata": {},
   "outputs": [
    {
     "data": {
      "text/plain": [
       "(5,)"
      ]
     },
     "execution_count": 24,
     "metadata": {},
     "output_type": "execute_result"
    }
   ],
   "source": [
    "array.shape"
   ]
  },
  {
   "cell_type": "code",
   "execution_count": 25,
   "metadata": {},
   "outputs": [
    {
     "data": {
      "text/plain": [
       "dtype('int32')"
      ]
     },
     "execution_count": 25,
     "metadata": {},
     "output_type": "execute_result"
    }
   ],
   "source": [
    "# O método shape exibe a forma do array\n",
    "\n",
    "# O método dtype exibi o tipo de dado do array\n",
    "\n",
    "array_multidimensional.dtype"
   ]
  },
  {
   "cell_type": "code",
   "execution_count": 26,
   "metadata": {},
   "outputs": [
    {
     "data": {
      "text/plain": [
       "dtype('int32')"
      ]
     },
     "execution_count": 26,
     "metadata": {},
     "output_type": "execute_result"
    }
   ],
   "source": [
    "array.dtype"
   ]
  },
  {
   "cell_type": "code",
   "execution_count": 30,
   "metadata": {},
   "outputs": [
    {
     "name": "stdout",
     "output_type": "stream",
     "text": [
      "[0. 0.]\n"
     ]
    }
   ],
   "source": [
    "# Também existem casos especiais de array.\n",
    "\n",
    "# Array com zeros\n",
    "\n",
    "array_zeros = np.zeros(2)\n",
    "\n",
    "print(array_zeros)"
   ]
  },
  {
   "cell_type": "code",
   "execution_count": 31,
   "metadata": {},
   "outputs": [
    {
     "data": {
      "text/plain": [
       "dtype('float64')"
      ]
     },
     "execution_count": 31,
     "metadata": {},
     "output_type": "execute_result"
    }
   ],
   "source": [
    "array_zeros.dtype"
   ]
  },
  {
   "cell_type": "code",
   "execution_count": 32,
   "metadata": {},
   "outputs": [
    {
     "name": "stdout",
     "output_type": "stream",
     "text": [
      "[1. 1. 1. 1. 1.]\n"
     ]
    }
   ],
   "source": [
    "# Array de um\n",
    "\n",
    "array_ums = np.ones(5)\n",
    "\n",
    "print(array_ums)"
   ]
  },
  {
   "cell_type": "code",
   "execution_count": 33,
   "metadata": {},
   "outputs": [
    {
     "data": {
      "text/plain": [
       "dtype('float64')"
      ]
     },
     "execution_count": 33,
     "metadata": {},
     "output_type": "execute_result"
    }
   ],
   "source": [
    "array_ums.dtype"
   ]
  },
  {
   "cell_type": "markdown",
   "metadata": {},
   "source": [
    "# Brincando"
   ]
  },
  {
   "cell_type": "code",
   "execution_count": 48,
   "metadata": {},
   "outputs": [
    {
     "name": "stdout",
     "output_type": "stream",
     "text": [
      "Array: [10 20 30 40 50]\n",
      "Tipo: <class 'numpy.ndarray'>\n",
      "Variável: int32\n",
      "\n",
      "Array: [1 2 3 4 5]\n",
      "Tipo: <class 'numpy.ndarray'>\n",
      "Variável: int32\n",
      "\n",
      "Array: [[10 20 30 40 50]\n",
      " [ 1  2  3  4  5]]\n",
      "Tipo: <class 'numpy.ndarray'>\n",
      "Variável: int32\n",
      "\n",
      "Shapes:\n",
      "\n",
      "(5,)\n",
      "(5,)\n",
      "(2, 5)\n",
      "\n",
      "Array com zeros: [[0. 0.]\n",
      " [0. 0.]]\n",
      "\n",
      "Array com ums: [1. 1. 1. 1. 1.]\n"
     ]
    }
   ],
   "source": [
    "lista_idade = [10, 20, 30, 40, 50]\n",
    "\n",
    "transformacao = np.array(lista_idade) # Transformando uma lista em um array\n",
    "\n",
    "print('Array:', transformacao)\n",
    "print('Tipo:', type(transformacao))\n",
    "print('Variável:', transformacao.dtype)\n",
    "\n",
    "lista_numeros = [1, 2, 3, 4, 5]\n",
    "\n",
    "transformacao_numeros = np.array(lista_numeros) # Transformando uma lista em um array\n",
    "\n",
    "print('\\nArray:', transformacao_numeros)\n",
    "print('Tipo:', type(transformacao_numeros))\n",
    "print('Variável:', transformacao_numeros.dtype)\n",
    "\n",
    "# Criando array multidimensional\n",
    "\n",
    "lista_uniao = [lista_idade, lista_numeros]\n",
    "\n",
    "array_multi = np.array(lista_uniao)\n",
    " \n",
    "print('\\nArray:', array_multi)\n",
    "print('Tipo:', type(array_multi))\n",
    "print('Variável:', array_multi.dtype)\n",
    "\n",
    "# Exibindo formatos dos arrys\n",
    "\n",
    "print('\\nShapes:\\n')\n",
    "print(transformacao.shape)\n",
    "print(transformacao_numeros.shape)\n",
    "print(array_multi.shape)\n",
    "\n",
    "# Criando array com zeros\n",
    "\n",
    "array_com_zeros = np.zeros([2,2])\n",
    "\n",
    "print('\\nArray com zeros:', array_com_zeros)\n",
    "\n",
    "# Criando array com um's\n",
    "\n",
    "array_com_ums = np.ones([5])\n",
    "\n",
    "print('\\nArray com ums:', array_com_ums)\n",
    "\n",
    "# O argumento desses métodos recebe uma lista informando a quantidade de elementos nas dimensões"
   ]
  },
  {
   "cell_type": "code",
   "execution_count": 64,
   "metadata": {},
   "outputs": [
    {
     "name": "stdout",
     "output_type": "stream",
     "text": [
      "[0. 0. 0. 0.]\n"
     ]
    }
   ],
   "source": [
    "# Também podemos criar arrays vazios que é a mesma coisa de se criar um array de zeros\n",
    "\n",
    "array_vazio = np.empty(4)\n",
    "\n",
    "print(array_vazio)"
   ]
  },
  {
   "cell_type": "code",
   "execution_count": 66,
   "metadata": {},
   "outputs": [
    {
     "data": {
      "text/plain": [
       "array([[1., 0., 0., 0., 0.],\n",
       "       [0., 1., 0., 0., 0.],\n",
       "       [0., 0., 1., 0., 0.],\n",
       "       [0., 0., 0., 1., 0.],\n",
       "       [0., 0., 0., 0., 1.]])"
      ]
     },
     "execution_count": 66,
     "metadata": {},
     "output_type": "execute_result"
    }
   ],
   "source": [
    "# Matriz identidade - Possui um's na diagonal e o resto são zeros.\n",
    "\n",
    "np.eye(5) # Formara uma matriz quadrada"
   ]
  },
  {
   "cell_type": "code",
   "execution_count": 67,
   "metadata": {},
   "outputs": [
    {
     "data": {
      "text/plain": [
       "array([0, 1, 2, 3, 4])"
      ]
     },
     "execution_count": 67,
     "metadata": {},
     "output_type": "execute_result"
    }
   ],
   "source": [
    "# Método arange() - Com ele você pode inserir um começo, uma parada e um tamanho.\n",
    "\n",
    "# Ele vai retornar uniformemente os valores espaçados dentro desse intervalo dado.\n",
    "\n",
    "np.arange(5)"
   ]
  },
  {
   "cell_type": "code",
   "execution_count": 68,
   "metadata": {},
   "outputs": [
    {
     "data": {
      "text/plain": [
       "array([ 5,  7,  9, 11, 13, 15, 17, 19, 21, 23, 25, 27, 29, 31, 33, 35, 37,\n",
       "       39, 41, 43, 45, 47, 49])"
      ]
     },
     "execution_count": 68,
     "metadata": {},
     "output_type": "execute_result"
    }
   ],
   "source": [
    "np.arange(5, 50, 2)"
   ]
  }
 ],
 "metadata": {
  "kernelspec": {
   "display_name": "Python 3",
   "language": "python",
   "name": "python3"
  },
  "language_info": {
   "codemirror_mode": {
    "name": "ipython",
    "version": 3
   },
   "file_extension": ".py",
   "mimetype": "text/x-python",
   "name": "python",
   "nbconvert_exporter": "python",
   "pygments_lexer": "ipython3",
   "version": "3.7.1"
  }
 },
 "nbformat": 4,
 "nbformat_minor": 2
}
