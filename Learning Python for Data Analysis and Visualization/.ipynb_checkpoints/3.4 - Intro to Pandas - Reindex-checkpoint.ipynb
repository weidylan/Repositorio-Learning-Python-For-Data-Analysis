{
 "cells": [
  {
   "cell_type": "code",
   "execution_count": 1,
   "metadata": {},
   "outputs": [],
   "source": [
    "# Vamos aprender a re-indexar e mudar o índice caso seja preciso.\n",
    "\n",
    "import numpy as np\n",
    "import pandas as pd\n",
    "from pandas import Series, DataFrame\n",
    "from numpy.random import randn"
   ]
  },
  {
   "cell_type": "code",
   "execution_count": 2,
   "metadata": {},
   "outputs": [],
   "source": [
    "serie = Series([1,2,3,4], index = ['A', 'B', 'C', 'D'])"
   ]
  },
  {
   "cell_type": "code",
   "execution_count": 3,
   "metadata": {},
   "outputs": [
    {
     "data": {
      "text/plain": [
       "A    1\n",
       "B    2\n",
       "C    3\n",
       "D    4\n",
       "dtype: int64"
      ]
     },
     "execution_count": 3,
     "metadata": {},
     "output_type": "execute_result"
    }
   ],
   "source": [
    "serie"
   ]
  },
  {
   "cell_type": "code",
   "execution_count": 4,
   "metadata": {},
   "outputs": [],
   "source": [
    "nova_serie = serie.reindex(['A', 'B', 'C', 'D', 'E', 'F']) # Método reindex() utilizado para mudar um índice."
   ]
  },
  {
   "cell_type": "code",
   "execution_count": 5,
   "metadata": {},
   "outputs": [
    {
     "data": {
      "text/plain": [
       "A    1.0\n",
       "B    2.0\n",
       "C    3.0\n",
       "D    4.0\n",
       "E    NaN\n",
       "F    NaN\n",
       "dtype: float64"
      ]
     },
     "execution_count": 5,
     "metadata": {},
     "output_type": "execute_result"
    }
   ],
   "source": [
    "nova_serie"
   ]
  },
  {
   "cell_type": "code",
   "execution_count": 6,
   "metadata": {},
   "outputs": [
    {
     "data": {
      "text/plain": [
       "A    1.0\n",
       "B    2.0\n",
       "C    3.0\n",
       "D    4.0\n",
       "E    NaN\n",
       "F    NaN\n",
       "G    0.0\n",
       "dtype: float64"
      ]
     },
     "execution_count": 6,
     "metadata": {},
     "output_type": "execute_result"
    }
   ],
   "source": [
    "# Pandas automaticamente preenche o calor de um campo como nulo caso não seja passado nenhum conteúdo para ele.\n",
    "\n",
    "# Mas nós podemos preencher valores novos.\n",
    "\n",
    "nova_serie.reindex(['A', 'B', 'C', 'D', 'E', 'F', 'G'], fill_value=0)"
   ]
  },
  {
   "cell_type": "code",
   "execution_count": 8,
   "metadata": {},
   "outputs": [],
   "source": [
    "# Também podemos usar métodos específicos para valores já preenchidos.\n",
    "\n",
    "serie_atual = Series(['USA', 'BR', 'ARG', 'ITA', 'MEX'], index = [0, 1, 2, 3, 4])"
   ]
  },
  {
   "cell_type": "code",
   "execution_count": 9,
   "metadata": {},
   "outputs": [
    {
     "data": {
      "text/plain": [
       "0    USA\n",
       "1     BR\n",
       "2    ARG\n",
       "3    ITA\n",
       "4    MEX\n",
       "dtype: object"
      ]
     },
     "execution_count": 9,
     "metadata": {},
     "output_type": "execute_result"
    }
   ],
   "source": [
    "serie_atual"
   ]
  },
  {
   "cell_type": "code",
   "execution_count": 12,
   "metadata": {},
   "outputs": [
    {
     "data": {
      "text/plain": [
       "range(0, 15)"
      ]
     },
     "execution_count": 12,
     "metadata": {},
     "output_type": "execute_result"
    }
   ],
   "source": [
    "ranger = range(15)\n",
    "\n",
    "ranger"
   ]
  },
  {
   "cell_type": "code",
   "execution_count": 13,
   "metadata": {},
   "outputs": [
    {
     "name": "stdout",
     "output_type": "stream",
     "text": [
      "0\n",
      "1\n",
      "2\n",
      "3\n",
      "4\n",
      "5\n",
      "6\n",
      "7\n",
      "8\n",
      "9\n",
      "10\n",
      "11\n",
      "12\n",
      "13\n",
      "14\n"
     ]
    }
   ],
   "source": [
    "for elemento in ranger:\n",
    "    print(elemento)"
   ]
  },
  {
   "cell_type": "code",
   "execution_count": 14,
   "metadata": {},
   "outputs": [
    {
     "data": {
      "text/plain": [
       "0     USA\n",
       "1      BR\n",
       "2     ARG\n",
       "3     ITA\n",
       "4     MEX\n",
       "5     MEX\n",
       "6     MEX\n",
       "7     MEX\n",
       "8     MEX\n",
       "9     MEX\n",
       "10    MEX\n",
       "11    MEX\n",
       "12    MEX\n",
       "13    MEX\n",
       "14    MEX\n",
       "dtype: object"
      ]
     },
     "execution_count": 14,
     "metadata": {},
     "output_type": "execute_result"
    }
   ],
   "source": [
    "serie_atual.reindex(ranger, method='ffill') \n",
    "\n",
    "# O method ffill pega um valor e encaminha ele para próximos índices até atingir algo que já tenha um valor."
   ]
  },
  {
   "cell_type": "code",
   "execution_count": 15,
   "metadata": {},
   "outputs": [],
   "source": [
    "# Existem diferentes métodos que você pode passar.\n",
    "\n",
    "# Digamos que você queira reindexar linhas ou colunas. Para isso faremos um DataFrame\n",
    "\n",
    "dframe = DataFrame(randn(25).reshape((5,5)), index = ['A', 'B', 'D', 'E', 'F'], \n",
    "                    columns = ['col1', 'col2', 'col3', 'col4', 'col5'])"
   ]
  },
  {
   "cell_type": "code",
   "execution_count": 16,
   "metadata": {},
   "outputs": [
    {
     "data": {
      "text/html": [
       "<div>\n",
       "<style scoped>\n",
       "    .dataframe tbody tr th:only-of-type {\n",
       "        vertical-align: middle;\n",
       "    }\n",
       "\n",
       "    .dataframe tbody tr th {\n",
       "        vertical-align: top;\n",
       "    }\n",
       "\n",
       "    .dataframe thead th {\n",
       "        text-align: right;\n",
       "    }\n",
       "</style>\n",
       "<table border=\"1\" class=\"dataframe\">\n",
       "  <thead>\n",
       "    <tr style=\"text-align: right;\">\n",
       "      <th></th>\n",
       "      <th>col1</th>\n",
       "      <th>col2</th>\n",
       "      <th>col3</th>\n",
       "      <th>col4</th>\n",
       "      <th>col5</th>\n",
       "    </tr>\n",
       "  </thead>\n",
       "  <tbody>\n",
       "    <tr>\n",
       "      <th>A</th>\n",
       "      <td>-0.673947</td>\n",
       "      <td>-1.303704</td>\n",
       "      <td>0.660307</td>\n",
       "      <td>0.343085</td>\n",
       "      <td>-0.431976</td>\n",
       "    </tr>\n",
       "    <tr>\n",
       "      <th>B</th>\n",
       "      <td>-0.762655</td>\n",
       "      <td>-0.229896</td>\n",
       "      <td>-0.459799</td>\n",
       "      <td>0.214980</td>\n",
       "      <td>0.786910</td>\n",
       "    </tr>\n",
       "    <tr>\n",
       "      <th>D</th>\n",
       "      <td>-1.301261</td>\n",
       "      <td>0.305623</td>\n",
       "      <td>0.967978</td>\n",
       "      <td>-0.078042</td>\n",
       "      <td>1.580406</td>\n",
       "    </tr>\n",
       "    <tr>\n",
       "      <th>E</th>\n",
       "      <td>0.086163</td>\n",
       "      <td>-1.757091</td>\n",
       "      <td>0.705821</td>\n",
       "      <td>-0.901804</td>\n",
       "      <td>-0.269069</td>\n",
       "    </tr>\n",
       "    <tr>\n",
       "      <th>F</th>\n",
       "      <td>1.185539</td>\n",
       "      <td>0.878120</td>\n",
       "      <td>0.690226</td>\n",
       "      <td>0.357940</td>\n",
       "      <td>0.042587</td>\n",
       "    </tr>\n",
       "  </tbody>\n",
       "</table>\n",
       "</div>"
      ],
      "text/plain": [
       "       col1      col2      col3      col4      col5\n",
       "A -0.673947 -1.303704  0.660307  0.343085 -0.431976\n",
       "B -0.762655 -0.229896 -0.459799  0.214980  0.786910\n",
       "D -1.301261  0.305623  0.967978 -0.078042  1.580406\n",
       "E  0.086163 -1.757091  0.705821 -0.901804 -0.269069\n",
       "F  1.185539  0.878120  0.690226  0.357940  0.042587"
      ]
     },
     "execution_count": 16,
     "metadata": {},
     "output_type": "execute_result"
    }
   ],
   "source": [
    "dframe"
   ]
  },
  {
   "cell_type": "code",
   "execution_count": 17,
   "metadata": {},
   "outputs": [
    {
     "data": {
      "text/html": [
       "<div>\n",
       "<style scoped>\n",
       "    .dataframe tbody tr th:only-of-type {\n",
       "        vertical-align: middle;\n",
       "    }\n",
       "\n",
       "    .dataframe tbody tr th {\n",
       "        vertical-align: top;\n",
       "    }\n",
       "\n",
       "    .dataframe thead th {\n",
       "        text-align: right;\n",
       "    }\n",
       "</style>\n",
       "<table border=\"1\" class=\"dataframe\">\n",
       "  <thead>\n",
       "    <tr style=\"text-align: right;\">\n",
       "      <th></th>\n",
       "      <th>col1</th>\n",
       "      <th>col2</th>\n",
       "      <th>col3</th>\n",
       "      <th>col4</th>\n",
       "      <th>col5</th>\n",
       "    </tr>\n",
       "  </thead>\n",
       "  <tbody>\n",
       "    <tr>\n",
       "      <th>A</th>\n",
       "      <td>-0.673947</td>\n",
       "      <td>-1.303704</td>\n",
       "      <td>0.660307</td>\n",
       "      <td>0.343085</td>\n",
       "      <td>-0.431976</td>\n",
       "    </tr>\n",
       "    <tr>\n",
       "      <th>B</th>\n",
       "      <td>-0.762655</td>\n",
       "      <td>-0.229896</td>\n",
       "      <td>-0.459799</td>\n",
       "      <td>0.214980</td>\n",
       "      <td>0.786910</td>\n",
       "    </tr>\n",
       "    <tr>\n",
       "      <th>C</th>\n",
       "      <td>NaN</td>\n",
       "      <td>NaN</td>\n",
       "      <td>NaN</td>\n",
       "      <td>NaN</td>\n",
       "      <td>NaN</td>\n",
       "    </tr>\n",
       "    <tr>\n",
       "      <th>D</th>\n",
       "      <td>-1.301261</td>\n",
       "      <td>0.305623</td>\n",
       "      <td>0.967978</td>\n",
       "      <td>-0.078042</td>\n",
       "      <td>1.580406</td>\n",
       "    </tr>\n",
       "    <tr>\n",
       "      <th>E</th>\n",
       "      <td>0.086163</td>\n",
       "      <td>-1.757091</td>\n",
       "      <td>0.705821</td>\n",
       "      <td>-0.901804</td>\n",
       "      <td>-0.269069</td>\n",
       "    </tr>\n",
       "    <tr>\n",
       "      <th>F</th>\n",
       "      <td>1.185539</td>\n",
       "      <td>0.878120</td>\n",
       "      <td>0.690226</td>\n",
       "      <td>0.357940</td>\n",
       "      <td>0.042587</td>\n",
       "    </tr>\n",
       "  </tbody>\n",
       "</table>\n",
       "</div>"
      ],
      "text/plain": [
       "       col1      col2      col3      col4      col5\n",
       "A -0.673947 -1.303704  0.660307  0.343085 -0.431976\n",
       "B -0.762655 -0.229896 -0.459799  0.214980  0.786910\n",
       "C       NaN       NaN       NaN       NaN       NaN\n",
       "D -1.301261  0.305623  0.967978 -0.078042  1.580406\n",
       "E  0.086163 -1.757091  0.705821 -0.901804 -0.269069\n",
       "F  1.185539  0.878120  0.690226  0.357940  0.042587"
      ]
     },
     "execution_count": 17,
     "metadata": {},
     "output_type": "execute_result"
    }
   ],
   "source": [
    "# Re-indexando no DataFrame\n",
    "\n",
    "dframe2 = dframe.reindex(['A', 'B', 'C', 'D', 'E', 'F'])\n",
    "\n",
    "dframe2"
   ]
  },
  {
   "cell_type": "code",
   "execution_count": 24,
   "metadata": {},
   "outputs": [
    {
     "data": {
      "text/html": [
       "<div>\n",
       "<style scoped>\n",
       "    .dataframe tbody tr th:only-of-type {\n",
       "        vertical-align: middle;\n",
       "    }\n",
       "\n",
       "    .dataframe tbody tr th {\n",
       "        vertical-align: top;\n",
       "    }\n",
       "\n",
       "    .dataframe thead th {\n",
       "        text-align: right;\n",
       "    }\n",
       "</style>\n",
       "<table border=\"1\" class=\"dataframe\">\n",
       "  <thead>\n",
       "    <tr style=\"text-align: right;\">\n",
       "      <th></th>\n",
       "      <th>col1</th>\n",
       "      <th>col2</th>\n",
       "      <th>col3</th>\n",
       "      <th>col4</th>\n",
       "      <th>col5</th>\n",
       "      <th>col6</th>\n",
       "    </tr>\n",
       "  </thead>\n",
       "  <tbody>\n",
       "    <tr>\n",
       "      <th>A</th>\n",
       "      <td>-0.673947</td>\n",
       "      <td>-1.303704</td>\n",
       "      <td>0.660307</td>\n",
       "      <td>0.343085</td>\n",
       "      <td>-0.431976</td>\n",
       "      <td>NaN</td>\n",
       "    </tr>\n",
       "    <tr>\n",
       "      <th>B</th>\n",
       "      <td>-0.762655</td>\n",
       "      <td>-0.229896</td>\n",
       "      <td>-0.459799</td>\n",
       "      <td>0.214980</td>\n",
       "      <td>0.786910</td>\n",
       "      <td>NaN</td>\n",
       "    </tr>\n",
       "    <tr>\n",
       "      <th>C</th>\n",
       "      <td>NaN</td>\n",
       "      <td>NaN</td>\n",
       "      <td>NaN</td>\n",
       "      <td>NaN</td>\n",
       "      <td>NaN</td>\n",
       "      <td>NaN</td>\n",
       "    </tr>\n",
       "    <tr>\n",
       "      <th>D</th>\n",
       "      <td>-1.301261</td>\n",
       "      <td>0.305623</td>\n",
       "      <td>0.967978</td>\n",
       "      <td>-0.078042</td>\n",
       "      <td>1.580406</td>\n",
       "      <td>NaN</td>\n",
       "    </tr>\n",
       "    <tr>\n",
       "      <th>E</th>\n",
       "      <td>0.086163</td>\n",
       "      <td>-1.757091</td>\n",
       "      <td>0.705821</td>\n",
       "      <td>-0.901804</td>\n",
       "      <td>-0.269069</td>\n",
       "      <td>NaN</td>\n",
       "    </tr>\n",
       "    <tr>\n",
       "      <th>F</th>\n",
       "      <td>1.185539</td>\n",
       "      <td>0.878120</td>\n",
       "      <td>0.690226</td>\n",
       "      <td>0.357940</td>\n",
       "      <td>0.042587</td>\n",
       "      <td>NaN</td>\n",
       "    </tr>\n",
       "  </tbody>\n",
       "</table>\n",
       "</div>"
      ],
      "text/plain": [
       "       col1      col2      col3      col4      col5  col6\n",
       "A -0.673947 -1.303704  0.660307  0.343085 -0.431976   NaN\n",
       "B -0.762655 -0.229896 -0.459799  0.214980  0.786910   NaN\n",
       "C       NaN       NaN       NaN       NaN       NaN   NaN\n",
       "D -1.301261  0.305623  0.967978 -0.078042  1.580406   NaN\n",
       "E  0.086163 -1.757091  0.705821 -0.901804 -0.269069   NaN\n",
       "F  1.185539  0.878120  0.690226  0.357940  0.042587   NaN"
      ]
     },
     "execution_count": 24,
     "metadata": {},
     "output_type": "execute_result"
    }
   ],
   "source": [
    "# Também podemos re-indexar explicitamente as colunas\n",
    "\n",
    "novas_colunas = ['col1', 'col2', 'col3', 'col4', 'col5', 'col6']\n",
    "\n",
    "dframe2.reindex(columns = novas_colunas)"
   ]
  },
  {
   "cell_type": "code",
   "execution_count": 25,
   "metadata": {},
   "outputs": [
    {
     "data": {
      "text/html": [
       "<div>\n",
       "<style scoped>\n",
       "    .dataframe tbody tr th:only-of-type {\n",
       "        vertical-align: middle;\n",
       "    }\n",
       "\n",
       "    .dataframe tbody tr th {\n",
       "        vertical-align: top;\n",
       "    }\n",
       "\n",
       "    .dataframe thead th {\n",
       "        text-align: right;\n",
       "    }\n",
       "</style>\n",
       "<table border=\"1\" class=\"dataframe\">\n",
       "  <thead>\n",
       "    <tr style=\"text-align: right;\">\n",
       "      <th></th>\n",
       "      <th>col1</th>\n",
       "      <th>col2</th>\n",
       "      <th>col3</th>\n",
       "      <th>col4</th>\n",
       "      <th>col5</th>\n",
       "    </tr>\n",
       "  </thead>\n",
       "  <tbody>\n",
       "    <tr>\n",
       "      <th>A</th>\n",
       "      <td>-0.673947</td>\n",
       "      <td>-1.303704</td>\n",
       "      <td>0.660307</td>\n",
       "      <td>0.343085</td>\n",
       "      <td>-0.431976</td>\n",
       "    </tr>\n",
       "    <tr>\n",
       "      <th>B</th>\n",
       "      <td>-0.762655</td>\n",
       "      <td>-0.229896</td>\n",
       "      <td>-0.459799</td>\n",
       "      <td>0.214980</td>\n",
       "      <td>0.786910</td>\n",
       "    </tr>\n",
       "    <tr>\n",
       "      <th>C</th>\n",
       "      <td>NaN</td>\n",
       "      <td>NaN</td>\n",
       "      <td>NaN</td>\n",
       "      <td>NaN</td>\n",
       "      <td>NaN</td>\n",
       "    </tr>\n",
       "    <tr>\n",
       "      <th>D</th>\n",
       "      <td>-1.301261</td>\n",
       "      <td>0.305623</td>\n",
       "      <td>0.967978</td>\n",
       "      <td>-0.078042</td>\n",
       "      <td>1.580406</td>\n",
       "    </tr>\n",
       "    <tr>\n",
       "      <th>E</th>\n",
       "      <td>0.086163</td>\n",
       "      <td>-1.757091</td>\n",
       "      <td>0.705821</td>\n",
       "      <td>-0.901804</td>\n",
       "      <td>-0.269069</td>\n",
       "    </tr>\n",
       "    <tr>\n",
       "      <th>F</th>\n",
       "      <td>1.185539</td>\n",
       "      <td>0.878120</td>\n",
       "      <td>0.690226</td>\n",
       "      <td>0.357940</td>\n",
       "      <td>0.042587</td>\n",
       "    </tr>\n",
       "  </tbody>\n",
       "</table>\n",
       "</div>"
      ],
      "text/plain": [
       "       col1      col2      col3      col4      col5\n",
       "A -0.673947 -1.303704  0.660307  0.343085 -0.431976\n",
       "B -0.762655 -0.229896 -0.459799  0.214980  0.786910\n",
       "C       NaN       NaN       NaN       NaN       NaN\n",
       "D -1.301261  0.305623  0.967978 -0.078042  1.580406\n",
       "E  0.086163 -1.757091  0.705821 -0.901804 -0.269069\n",
       "F  1.185539  0.878120  0.690226  0.357940  0.042587"
      ]
     },
     "execution_count": 25,
     "metadata": {},
     "output_type": "execute_result"
    }
   ],
   "source": [
    "dframe2"
   ]
  },
  {
   "cell_type": "code",
   "execution_count": 26,
   "metadata": {},
   "outputs": [
    {
     "name": "stderr",
     "output_type": "stream",
     "text": [
      "C:\\Users\\lucca.matos\\anaconda3\\lib\\site-packages\\ipykernel_launcher.py:3: DeprecationWarning: \n",
      ".ix is deprecated. Please use\n",
      ".loc for label based indexing or\n",
      ".iloc for positional indexing\n",
      "\n",
      "See the documentation here:\n",
      "http://pandas.pydata.org/pandas-docs/stable/indexing.html#ix-indexer-is-deprecated\n",
      "  This is separate from the ipykernel package so we can avoid doing imports until\n",
      "C:\\Users\\lucca.matos\\anaconda3\\lib\\site-packages\\ipykernel_launcher.py:3: FutureWarning: \n",
      "Passing list-likes to .loc or [] with any missing label will raise\n",
      "KeyError in the future, you can use .reindex() as an alternative.\n",
      "\n",
      "See the documentation here:\n",
      "https://pandas.pydata.org/pandas-docs/stable/indexing.html#deprecate-loc-reindex-listlike\n",
      "  This is separate from the ipykernel package so we can avoid doing imports until\n"
     ]
    },
    {
     "data": {
      "text/html": [
       "<div>\n",
       "<style scoped>\n",
       "    .dataframe tbody tr th:only-of-type {\n",
       "        vertical-align: middle;\n",
       "    }\n",
       "\n",
       "    .dataframe tbody tr th {\n",
       "        vertical-align: top;\n",
       "    }\n",
       "\n",
       "    .dataframe thead th {\n",
       "        text-align: right;\n",
       "    }\n",
       "</style>\n",
       "<table border=\"1\" class=\"dataframe\">\n",
       "  <thead>\n",
       "    <tr style=\"text-align: right;\">\n",
       "      <th></th>\n",
       "      <th>col1</th>\n",
       "      <th>col2</th>\n",
       "      <th>col3</th>\n",
       "      <th>col4</th>\n",
       "      <th>col5</th>\n",
       "      <th>col6</th>\n",
       "    </tr>\n",
       "  </thead>\n",
       "  <tbody>\n",
       "    <tr>\n",
       "      <th>A</th>\n",
       "      <td>-0.673947</td>\n",
       "      <td>-1.303704</td>\n",
       "      <td>0.660307</td>\n",
       "      <td>0.343085</td>\n",
       "      <td>-0.431976</td>\n",
       "      <td>NaN</td>\n",
       "    </tr>\n",
       "    <tr>\n",
       "      <th>B</th>\n",
       "      <td>-0.762655</td>\n",
       "      <td>-0.229896</td>\n",
       "      <td>-0.459799</td>\n",
       "      <td>0.214980</td>\n",
       "      <td>0.786910</td>\n",
       "      <td>NaN</td>\n",
       "    </tr>\n",
       "    <tr>\n",
       "      <th>C</th>\n",
       "      <td>NaN</td>\n",
       "      <td>NaN</td>\n",
       "      <td>NaN</td>\n",
       "      <td>NaN</td>\n",
       "      <td>NaN</td>\n",
       "      <td>NaN</td>\n",
       "    </tr>\n",
       "    <tr>\n",
       "      <th>D</th>\n",
       "      <td>-1.301261</td>\n",
       "      <td>0.305623</td>\n",
       "      <td>0.967978</td>\n",
       "      <td>-0.078042</td>\n",
       "      <td>1.580406</td>\n",
       "      <td>NaN</td>\n",
       "    </tr>\n",
       "    <tr>\n",
       "      <th>E</th>\n",
       "      <td>0.086163</td>\n",
       "      <td>-1.757091</td>\n",
       "      <td>0.705821</td>\n",
       "      <td>-0.901804</td>\n",
       "      <td>-0.269069</td>\n",
       "      <td>NaN</td>\n",
       "    </tr>\n",
       "    <tr>\n",
       "      <th>F</th>\n",
       "      <td>1.185539</td>\n",
       "      <td>0.878120</td>\n",
       "      <td>0.690226</td>\n",
       "      <td>0.357940</td>\n",
       "      <td>0.042587</td>\n",
       "      <td>NaN</td>\n",
       "    </tr>\n",
       "  </tbody>\n",
       "</table>\n",
       "</div>"
      ],
      "text/plain": [
       "       col1      col2      col3      col4      col5  col6\n",
       "A -0.673947 -1.303704  0.660307  0.343085 -0.431976   NaN\n",
       "B -0.762655 -0.229896 -0.459799  0.214980  0.786910   NaN\n",
       "C       NaN       NaN       NaN       NaN       NaN   NaN\n",
       "D -1.301261  0.305623  0.967978 -0.078042  1.580406   NaN\n",
       "E  0.086163 -1.757091  0.705821 -0.901804 -0.269069   NaN\n",
       "F  1.185539  0.878120  0.690226  0.357940  0.042587   NaN"
      ]
     },
     "execution_count": 26,
     "metadata": {},
     "output_type": "execute_result"
    }
   ],
   "source": [
    "# Também conseguimos indexar índices utilizando .ix\n",
    "\n",
    "dframe.ix[['A', 'B', 'C', 'D', 'E', 'F'], novas_colunas]"
   ]
  }
 ],
 "metadata": {
  "kernelspec": {
   "display_name": "Python 3",
   "language": "python",
   "name": "python3"
  },
  "language_info": {
   "codemirror_mode": {
    "name": "ipython",
    "version": 3
   },
   "file_extension": ".py",
   "mimetype": "text/x-python",
   "name": "python",
   "nbconvert_exporter": "python",
   "pygments_lexer": "ipython3",
   "version": "3.7.1"
  }
 },
 "nbformat": 4,
 "nbformat_minor": 2
}
